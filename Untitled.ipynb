{
 "cells": [
  {
   "cell_type": "code",
   "execution_count": null,
   "id": "b9fe9049",
   "metadata": {
    "scrolled": true
   },
   "outputs": [
    {
     "name": "stdout",
     "output_type": "stream",
     "text": [
      "Jupyter environment detected. Enabling Open3D WebVisualizer.\n",
      "[Open3D INFO] WebRTC GUI backend enabled.\n",
      "[Open3D INFO] WebRTCWindowSystem: HTTP handshake server disabled.\n",
      "WARNING:tensorflow:From /home/abdo_gamal/miniconda3/envs/tensorflow/lib/python3.9/site-packages/tensorflow/python/util/deprecation.py:648: calling map_fn_v2 (from tensorflow.python.ops.map_fn) with dtype is deprecated and will be removed in a future version.\n",
      "Instructions for updating:\n",
      "Use fn_output_signature instead\n"
     ]
    },
    {
     "name": "stderr",
     "output_type": "stream",
     "text": [
      "/home/abdo_gamal/miniconda3/envs/tensorflow/lib/python3.9/site-packages/keras/engine/training_v1.py:2359: UserWarning: `Model.state_updates` will be removed in a future version. This property should not be used in TensorFlow 2.0, as `updates` are applied automatically.\n",
      "  updates=self.state_updates,\n"
     ]
    }
   ],
   "source": [
    "import open3d as o3d\n",
    "import numpy as np\n",
    "import pyrealsense2 as rs\n",
    "import cv2\n",
    "import os\n",
    "import datetime\n",
    "import pixellib\n",
    "from pixellib.instance import instance_segmentation\n",
    "\n",
    "\n",
    "segment_frame = instance_segmentation(infer_speed = \"fast\")\n",
    "segment_frame.load_model(\"mask_rcnn_coco.h5\")\n",
    "\n",
    "#f=cv2.VideoCapture(0)\n",
    "path= '/home/abdo_gamal/Pictures/33.jpeg'\n",
    "while True:\n",
    " \n",
    "   \n",
    "   \n",
    "        #\"\"\" Prediction \"\"\"\n",
    "   \n",
    "    frame = cv2.imread(path)\n",
    "    results=segment_frame.segmentFrame(frame,show_bboxes=False)\n",
    "\n",
    "    seg_image=results[1]\n",
    "    \n",
    "\n",
    "  \n",
    "    \n",
    "    cv2.imshow('rgb-d', seg_image)\n",
    "    cv2.waitKey(1)"
   ]
  },
  {
   "cell_type": "code",
   "execution_count": null,
   "id": "8bba0945",
   "metadata": {},
   "outputs": [],
   "source": []
  },
  {
   "cell_type": "code",
   "execution_count": null,
   "id": "261cfad0",
   "metadata": {},
   "outputs": [],
   "source": []
  },
  {
   "cell_type": "code",
   "execution_count": null,
   "id": "5fd375b2",
   "metadata": {},
   "outputs": [],
   "source": []
  },
  {
   "cell_type": "code",
   "execution_count": null,
   "id": "bc17490b",
   "metadata": {},
   "outputs": [],
   "source": []
  },
  {
   "cell_type": "code",
   "execution_count": null,
   "id": "01f3df6b",
   "metadata": {},
   "outputs": [],
   "source": []
  },
  {
   "cell_type": "code",
   "execution_count": null,
   "id": "41139c6b",
   "metadata": {},
   "outputs": [],
   "source": []
  },
  {
   "cell_type": "code",
   "execution_count": null,
   "id": "b1180594",
   "metadata": {},
   "outputs": [],
   "source": []
  },
  {
   "cell_type": "code",
   "execution_count": null,
   "id": "23a8bffe",
   "metadata": {},
   "outputs": [],
   "source": []
  },
  {
   "cell_type": "code",
   "execution_count": 1,
   "id": "9fe5465d",
   "metadata": {},
   "outputs": [
    {
     "ename": "NameError",
     "evalue": "name 'rs' is not defined",
     "output_type": "error",
     "traceback": [
      "\u001b[0;31m---------------------------------------------------------------------------\u001b[0m",
      "\u001b[0;31mNameError\u001b[0m                                 Traceback (most recent call last)",
      "Cell \u001b[0;32mIn[1], line 2\u001b[0m\n\u001b[1;32m      1\u001b[0m \u001b[38;5;28;01mif\u001b[39;00m \u001b[38;5;18m__name__\u001b[39m\u001b[38;5;241m==\u001b[39m\u001b[38;5;124m\"\u001b[39m\u001b[38;5;124m__main__\u001b[39m\u001b[38;5;124m\"\u001b[39m:\n\u001b[0;32m----> 2\u001b[0m     align \u001b[38;5;241m=\u001b[39m \u001b[43mrs\u001b[49m\u001b[38;5;241m.\u001b[39malign(rs\u001b[38;5;241m.\u001b[39mstream\u001b[38;5;241m.\u001b[39mcolor)\n\u001b[1;32m      4\u001b[0m     config \u001b[38;5;241m=\u001b[39m rs\u001b[38;5;241m.\u001b[39mconfig()\n\u001b[1;32m      5\u001b[0m     config\u001b[38;5;241m.\u001b[39menable_stream(rs\u001b[38;5;241m.\u001b[39mstream\u001b[38;5;241m.\u001b[39mdepth, \u001b[38;5;241m640\u001b[39m, \u001b[38;5;241m480\u001b[39m, rs\u001b[38;5;241m.\u001b[39mformat\u001b[38;5;241m.\u001b[39mz16, \u001b[38;5;241m30\u001b[39m)\n",
      "\u001b[0;31mNameError\u001b[0m: name 'rs' is not defined"
     ]
    }
   ],
   "source": [
    "\n",
    "\n",
    "if __name__==\"__main__\":\n",
    "    align = rs.align(rs.stream.color)\n",
    "\n",
    "    config = rs.config()\n",
    "    config.enable_stream(rs.stream.depth, 640, 480, rs.format.z16, 30)\n",
    "    config.enable_stream(rs.stream.color, 640, 480, rs.format.rgb8, 30)\n",
    "\n",
    "\n",
    "    pipeline = rs.pipeline()\n",
    "    profile = pipeline.start(config)\n",
    "\n",
    "    # get camera intrinsics\n",
    "    intr = profile.get_stream(rs.stream.color).as_video_stream_profile().get_intrinsics()\n",
    "    print(intr.width, intr.height, intr.fx, intr.fy, intr.ppx, intr.ppy)\n",
    "    pinhole_camera_intrinsic = open3d.camera.PinholeCameraIntrinsic(intr.width, intr.height, intr.fx, intr.fy, intr.ppx, intr.ppy)\n",
    "    # print(type(pinhole_camera_intrinsic))\n",
    "    \n",
    "    cv2.namedWindow('Color Stream', cv2.WINDOW_AUTOSIZE)\n",
    "    cv2.namedWindow('Depth Stream', cv2.WINDOW_AUTOSIZE)\n",
    "\n",
    "    geometrie_added = False\n",
    "    vis = open3d.visualization.Visualizer()\n",
    "    #vis.create_window(\"Pointcloud\",640,480)\n",
    "    vis.create_window(\"Pointcloud\")\n",
    "    pointcloud = open3d.geometry.PointCloud()\n",
    "    i = 0\n",
    "    \n",
    "    segment_frame = instance_segmentation(infer_speed = \"fast\")\n",
    "    segment_frame.load_model(\"/home/abdo_gamal/gp_ws/src/semantic_segmentation_ros/instance_seg/mask_rcnn_coco.h5\")\n",
    "\n",
    "\n",
    "    try:\n",
    "        while True:\n",
    "           # dt0 = datetime.now()\n",
    "            frames = pipeline.wait_for_frames()\n",
    "            aligned_frames = align.process(frames)\n",
    "            color_frame = aligned_frames.get_color_frame()\n",
    "            color_image = np.asanyarray(color_frame.get_data())\n",
    "            depth_frame = aligned_frames.get_depth_frame()\n",
    "            depth_frame = rs.decimation_filter(1).process(depth_frame)\n",
    "            depth_frame = rs.disparity_transform(True).process(depth_frame)\n",
    "            depth_frame = rs.spatial_filter().process(depth_frame)\n",
    "            depth_frame = rs.temporal_filter().process(depth_frame)\n",
    "            #depth_frame = rs.disparity_transform(False).process(depth_frame)\n",
    "            depth_frame = rs.hole_filling_filter().process(depth_frame)\n",
    "\n",
    "            depth_image = np.asanyarray(depth_frame.get_data()).astype(np.int32)\n",
    "            color_image1 = cv2.cvtColor(color_image, cv2.COLOR_RGB2BGR)\n",
    "            depth_color_frame = rs.colorizer().colorize(depth_frame)\n",
    "            depth_color_image = np.asanyarray(depth_color_frame.get_data())\n",
    "            \n",
    "        #\"\"\" Prediction \"\"\"\n",
    "   \n",
    "\n",
    "            results=segment_frame.segmentFrame(color_image1 ,show_bboxes=False)\n",
    "\n",
    "            seg_image=results[1]\n",
    "            \n",
    "            \n",
    "            cv2.imshow('Color Stream', seg_image)\n",
    "            cv2.imshow('Depth Stream', depth_color_image )\n",
    "            depth = open3d.geometry.Image(depth_image)\n",
    "            color = open3d.geometry.Image(seg_image)\n",
    "            rgbd = open3d.geometry.RGBDImage.create_from_color_and_depth(color, depth, convert_rgb_to_intensity = False)\n",
    "            pcd = open3d.geometry.PointCloud.create_from_rgbd_image(rgbd, pinhole_camera_intrinsic)\n",
    "\n",
    "            if not pcd:\n",
    "                continue\n",
    "                \n",
    "            pcd.transform([[1,0,0,0],[0,-1,0,0],[0,0,-1,0],[0,0,0,1]])\n",
    "            # pcd = voxel_down_sample(pcd, voxel_size = 0.003)\n",
    "            pointcloud.clear()\n",
    "            pointcloud += pcd\n",
    "\n",
    "            if not geometrie_added:\n",
    "                vis.add_geometry(pointcloud)\n",
    "                geometrie_added = True\n",
    "\n",
    "            vis.update_geometry(pointcloud)\n",
    "            vis.poll_events()\n",
    "            vis.update_renderer()\n",
    "          #  process_time = datetime.now() - dt0\n",
    "            # print(\"FPS = {0}\".format(int(1/process_time.total_seconds())))\n",
    "            key = cv2.waitKey(1)\n",
    "\n",
    "            if key & 0xFF == ord('s'):\n",
    "                if not os.path.exists('./output/'): \n",
    "                    os.makedirs('./output')\n",
    "                cv2.imwrite('./output/depth_'+str(i)+'.png',depth_image)\n",
    "                cv2.imwrite('./output/color_'+str(i)+'.png',color_image1)\n",
    "                write_point_cloud('./output/pointcloud_'+str(i)+'.pcd', pcd)\n",
    "                print('No.'+str(i)+' shot is saved.' )\n",
    "                i += 1\n",
    "\n",
    "            # Press esc or 'q' to close the image window\n",
    "            if key & 0xFF == ord('q') or key == 27:\n",
    "                cv2.destroyAllWindows()\n",
    "                vis.destroy_window()\n",
    "\n",
    "                break\n",
    "    finally:\n",
    "        pipeline.stop()\n"
   ]
  },
  {
   "cell_type": "code",
   "execution_count": null,
   "id": "64d9a0dc",
   "metadata": {},
   "outputs": [],
   "source": []
  },
  {
   "cell_type": "code",
   "execution_count": null,
   "id": "cc8b0b7e",
   "metadata": {},
   "outputs": [],
   "source": []
  },
  {
   "cell_type": "code",
   "execution_count": 4,
   "id": "4682332b",
   "metadata": {},
   "outputs": [
    {
     "name": "stdout",
     "output_type": "stream",
     "text": [
      "Defaulting to user installation because normal site-packages is not writeable\n",
      "Collecting tensorflow\n",
      "  Downloading tensorflow-2.12.0-cp38-cp38-manylinux_2_17_x86_64.manylinux2014_x86_64.whl (585.9 MB)\n",
      "\u001b[2K     \u001b[38;2;249;38;114m━━━━━━━━━━━━━━━━━━━━━━━━\u001b[0m\u001b[38;5;237m╺\u001b[0m\u001b[38;5;237m━━━━━━━━━━━━━━\u001b[0m \u001b[32m363.4/585.9 MB\u001b[0m \u001b[31m1.8 MB/s\u001b[0m eta \u001b[36m0:02:04\u001b[0m:06\u001b[0m"
     ]
    }
   ],
   "source": [
    "!pip3 install --upgrade tensorflow keras\n"
   ]
  },
  {
   "cell_type": "code",
   "execution_count": 5,
   "id": "51313859",
   "metadata": {},
   "outputs": [],
   "source": [
    "import pixellib\n",
    "from pixellib.instance import instance_segmentation\n"
   ]
  },
  {
   "cell_type": "code",
   "execution_count": null,
   "id": "d57f3ec0",
   "metadata": {},
   "outputs": [],
   "source": []
  }
 ],
 "metadata": {
  "kernelspec": {
   "display_name": "Python 3.8 (tensorflow)",
   "language": "python",
   "name": "tensorflow"
  },
  "language_info": {
   "codemirror_mode": {
    "name": "ipython",
    "version": 3
   },
   "file_extension": ".py",
   "mimetype": "text/x-python",
   "name": "python",
   "nbconvert_exporter": "python",
   "pygments_lexer": "ipython3",
   "version": "3.9.16"
  }
 },
 "nbformat": 4,
 "nbformat_minor": 5
}
